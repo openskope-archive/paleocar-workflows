{
 "cells": [
  {
   "cell_type": "markdown",
   "metadata": {},
   "source": [
    "Note: this is a Python notebook, but it is only being used for markdown and a log of shell commands right now."
   ]
  },
  {
   "cell_type": "markdown",
   "metadata": {},
   "source": [
    "# Original Post-Processing Workflow"
   ]
  },
  {
   "cell_type": "markdown",
   "metadata": {},
   "source": [
    "### R native data converted to TIFFs\n",
    "On ROGER:  \n",
    "`/projects/skope/PaleoCAR_RUN/OUTPUT/\n",
    "                                 |---GDD_may_sept_demosaic\n",
    "                                 |---PPT_annual_demosaic\n",
    "                                 |---PPT_may_sept_demosaic\n",
    "                                 |---PPT_water_year_demosaic`\n",
    "\n",
    "`.rds` files are serialized R data in 1 degree tiles  \n",
    "We need to ask Kyle how they were converted into TIFFs, since that was done outside of ROGER  \n",
    "`.tif` are in 1 degree tiles, 2000 years stacked as bands\n",
    "\n",
    "TIFFs are also in `/projects/skope/web/in/{data_type}/original/`  \n",
    "(where {data_type} can also be replaced with the GDD and PPT data layers listed above)"
   ]
  },
  {
   "cell_type": "markdown",
   "metadata": {},
   "source": [
    "#### [`split.pl`](https://github.com/openskope/paleocar-browser/blob/master/src/main/scripts/split.pl) (Adam)  \n",
    "```\n",
    "# This script takes all of Kyle's geotiffs for a given source and  \n",
    "# (a) merges them into a single file  \n",
    "# gdal_retile.py -ps 5000 5000 -targetDir .. \"*.merge*.tif\"  \n",
    "# (b) splits out each band into a file  \n",
    "# (c) colorizes the files (ramp.txt)  \n",
    "# (d) creates the tiles for the web```\n",
    "\n",
    "This script doesn't actually merge the 1 degree tiles, but the below cell shows a method for that"
   ]
  },
  {
   "cell_type": "markdown",
   "metadata": {},
   "source": [
    "### Combine into single TIFF  \n",
    "`\n",
    "$ cd /projects/skope/in/\n",
    "$ gdalbuildvrt GDD_may_sept_demosaic/GDD_may_sept_demosaic.vrt GDD_may_sept_demosaic/original/*.tif  \n",
    "$ gdal_translate -of GTiff -co \"BIGTIFF=YES\" -co \"COMPRESS=LZW\" GDD_may_sept_demosaic/GDD_may_sept_demosaic.vrt GDD_may_sept_demosaic/GDD_may_sept_demosaic.tif `"
   ]
  },
  {
   "cell_type": "markdown",
   "metadata": {},
   "source": [
    "### Separate bands into TIFF for each year\n",
    "`split.pl` can handle this. It exports one band at a time from the stacked TIFF that coveres the whole output area into its own file. For example:  \n",
    "`gdal_translate -b 1000 GDD_may_sept_demosaic.tif bands/GDD_may_sept_demosaic-1000.tif`"
   ]
  },
  {
   "cell_type": "markdown",
   "metadata": {},
   "source": [
    "### Colorize bands with `gdaldem`"
   ]
  },
  {
   "cell_type": "markdown",
   "metadata": {},
   "source": [
    "`split.pl` can handle this. It applies the colors ramp in ramp.txt to one year file at a time. For example:  \n",
    "`gdaldem color-relief bands/GDD_may_sept_demosaic-1000.tif ../ramp.txt color/GDD_may_sept_demosaic-1000-color.tif`"
   ]
  },
  {
   "cell_type": "markdown",
   "metadata": {},
   "source": [
    "#### Color Ramp [ramp.txt](https://github.com/openskope/paleocar-browser/blob/master/src/main/scripts/ramp.txt)\n",
    "```nv 255 255 255 255\n",
    "0 46 154 88\n",
    "1600 251 255 128\n",
    "3200 224 108 31\n",
    "4800 200 55 55\n",
    "6000 215 244 244```"
   ]
  },
  {
   "cell_type": "markdown",
   "metadata": {},
   "source": [
    "![](tms_overlay_wide.png)"
   ]
  },
  {
   "cell_type": "markdown",
   "metadata": {},
   "source": [
    "# Fixing existing TIFFs\n",
    "Johnathan used desktop GIS to create a TIFF over the problematic area with all -32768 values, which is the value used for nodata.\n",
    "\n",
    "Simply adding it to an uncolorized TIFF will make the 1 degree square chunk in the southwest corner will correct the values to make everything outside of the US states nodata.\n",
    "However, make sure that those values aren't set as nodata in this fix tiff - they need to be considered real values for the addition to work.  \n",
    "\n",
    "##### Unset nodata value in fixing TIFF\n",
    "`$ cd /projects/skope/web/in/fixtiles`  \n",
    "`$ gdal_edit.py -unsetnodata fix6.tif`  \n",
    "\n",
    "##### Do the addition  \n",
    "`$ gdal_calc.py -A ../GDD_may_sept_demosaic/band/GDD_may_sept_demosaic-1000.tif -B fix6.tif --outfile=GDD_1000_fix6.tif --calc=\"A+B\"`\n",
    "\n",
    "##### Re-colorizing fixed TIFF\n",
    "`gdaldem color-relief GDD_1000_fix6.tif ramp.txt GDD_1000_color_LZW.tif -co \"COMPRESS=DEFLATE\"`\n",
    "\n",
    "##### For list of TMS tiles\n",
    "`$ for i in $(seq 0 12); do ./globalmaptiles.py $i 31 -115 32 -114 >> tiles.txt; done  \n",
    "$ grep TileMapService tiles.txt  `\n",
    "\n",
    "You can also use that script to determine the total number of tiles for the whole area of interest over the 4 corners states:  \n",
    "`  \n",
    "$ for i in $(seq 0 12); do ./globalmaptiles.py $i 30.9958330 -114.9958330 42.9958330 -101.9958330 >> fullextent0-12.txt; done  \n",
    "$ grep TileMapService fullextent0-12.txt | wc -l\n",
    "34400\n",
    "`\n",
    "\n",
    "We probably don't need to generate tiles down to the 12th zoom level. For 2000 years, that would mean 68,820,000 tiles."
   ]
  },
  {
   "cell_type": "markdown",
   "metadata": {},
   "source": [
    "#### To do: modify the parallel gdal2tiles script to run only the necessary tiles that need to be replaced\n",
    "That script uses nested loops for zoom, columns, and rows.  Quickest thing would be to put a conditional check if the current tile is part of a list of tiles to calculate.  "
   ]
  }
 ],
 "metadata": {
  "kernelspec": {
   "display_name": "Python 3",
   "language": "python",
   "name": "python3"
  },
  "language_info": {
   "codemirror_mode": {
    "name": "ipython",
    "version": 3
   },
   "file_extension": ".py",
   "mimetype": "text/x-python",
   "name": "python",
   "nbconvert_exporter": "python",
   "pygments_lexer": "ipython3",
   "version": "3.5.2"
  }
 },
 "nbformat": 4,
 "nbformat_minor": 0
}
