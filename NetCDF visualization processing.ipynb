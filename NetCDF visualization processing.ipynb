{
 "cells": [
  {
   "cell_type": "markdown",
   "metadata": {},
   "source": [
    "#### Download data\n",
    "Downloaded all netCDF files from NOAA repository with:  \n",
    "`parallel < download.txt`\n",
    "Where parallel is GNU parallel and download.txt contains a wget command on each line for 310 files, e.g.:  \n",
    "`wget https://www1.ncdc.noaa.gov/pub/data/paleo/treering/reconstructions/northamerica/usa/bocinsky2016/103W31N_GDD.nc4`"
   ]
  },
  {
   "cell_type": "markdown",
   "metadata": {},
   "source": [
    "#### Build virtual raster"
   ]
  },
  {
   "cell_type": "code",
   "execution_count": 1,
   "metadata": {
    "collapsed": false
   },
   "outputs": [
    {
     "name": "stdout",
     "output_type": "stream",
     "text": [
      "0Warning 1: dimension #0 (Year) is not a Time or Vertical dimension.\n",
      "Warning 1: dimension #0 (Year) is not a Time or Vertical dimension.\n",
      "Warning 1: dimension #0 (Year) is not a Time or Vertical dimension.\n",
      ".Warning 1: dimension #0 (Year) is not a Time or Vertical dimension.\n",
      "Warning 1: dimension #0 (Year) is not a Time or Vertical dimension.\n",
      "Warning 1: dimension #0 (Year) is not a Time or Vertical dimension.\n",
      "Warning 1: dimension #0 (Year) is not a Time or Vertical dimension.\n",
      ".Warning 1: dimension #0 (Year) is not a Time or Vertical dimension.\n",
      "Warning 1: dimension #0 (Year) is not a Time or Vertical dimension.\n",
      "Warning 1: dimension #0 (Year) is not a Time or Vertical dimension.\n",
      "Warning 1: dimension #0 (Year) is not a Time or Vertical dimension.\n",
      ".Warning 1: dimension #0 (Year) is not a Time or Vertical dimension.\n",
      "Warning 1: dimension #0 (Year) is not a Time or Vertical dimension.\n",
      "Warning 1: dimension #0 (Year) is not a Time or Vertical dimension.\n",
      "Warning 1: dimension #0 (Year) is not a Time or Vertical dimension.\n",
      "10Warning 1: dimension #0 (Year) is not a Time or Vertical dimension.\n",
      "Warning 1: dimension #0 (Year) is not a Time or Vertical dimension.\n",
      "Warning 1: dimension #0 (Year) is not a Time or Vertical dimension.\n",
      "Warning 1: dimension #0 (Year) is not a Time or Vertical dimension.\n",
      ".Warning 1: dimension #0 (Year) is not a Time or Vertical dimension.\n",
      "Warning 1: dimension #0 (Year) is not a Time or Vertical dimension.\n",
      "Warning 1: dimension #0 (Year) is not a Time or Vertical dimension.\n",
      "Warning 1: dimension #0 (Year) is not a Time or Vertical dimension.\n",
      ".Warning 1: dimension #0 (Year) is not a Time or Vertical dimension.\n",
      "Warning 1: dimension #0 (Year) is not a Time or Vertical dimension.\n",
      "Warning 1: dimension #0 (Year) is not a Time or Vertical dimension.\n",
      "Warning 1: dimension #0 (Year) is not a Time or Vertical dimension.\n",
      ".Warning 1: dimension #0 (Year) is not a Time or Vertical dimension.\n",
      "Warning 1: dimension #0 (Year) is not a Time or Vertical dimension.\n",
      "Warning 1: dimension #0 (Year) is not a Time or Vertical dimension.\n",
      "20Warning 1: dimension #0 (Year) is not a Time or Vertical dimension.\n",
      "Warning 1: dimension #0 (Year) is not a Time or Vertical dimension.\n",
      "Warning 1: dimension #0 (Year) is not a Time or Vertical dimension.\n",
      "Warning 1: dimension #0 (Year) is not a Time or Vertical dimension.\n",
      ".Warning 1: dimension #0 (Year) is not a Time or Vertical dimension.\n",
      "Warning 1: dimension #0 (Year) is not a Time or Vertical dimension.\n",
      "Warning 1: dimension #0 (Year) is not a Time or Vertical dimension.\n",
      "Warning 1: dimension #0 (Year) is not a Time or Vertical dimension.\n",
      ".Warning 1: dimension #0 (Year) is not a Time or Vertical dimension.\n",
      "Warning 1: dimension #0 (Year) is not a Time or Vertical dimension.\n",
      "Warning 1: dimension #0 (Year) is not a Time or Vertical dimension.\n",
      "Warning 1: dimension #0 (Year) is not a Time or Vertical dimension.\n",
      ".Warning 1: dimension #0 (Year) is not a Time or Vertical dimension.\n",
      "Warning 1: dimension #0 (Year) is not a Time or Vertical dimension.\n",
      "Warning 1: dimension #0 (Year) is not a Time or Vertical dimension.\n",
      "Warning 1: dimension #0 (Year) is not a Time or Vertical dimension.\n",
      "30Warning 1: dimension #0 (Year) is not a Time or Vertical dimension.\n",
      "Warning 1: dimension #0 (Year) is not a Time or Vertical dimension.\n",
      "Warning 1: dimension #0 (Year) is not a Time or Vertical dimension.\n",
      "Warning 1: dimension #0 (Year) is not a Time or Vertical dimension.\n",
      ".Warning 1: dimension #0 (Year) is not a Time or Vertical dimension.\n",
      "Warning 1: dimension #0 (Year) is not a Time or Vertical dimension.\n",
      "Warning 1: dimension #0 (Year) is not a Time or Vertical dimension.\n",
      "Warning 1: dimension #0 (Year) is not a Time or Vertical dimension.\n",
      ".Warning 1: dimension #0 (Year) is not a Time or Vertical dimension.\n",
      "Warning 1: dimension #0 (Year) is not a Time or Vertical dimension.\n",
      "Warning 1: dimension #0 (Year) is not a Time or Vertical dimension.\n",
      "Warning 1: dimension #0 (Year) is not a Time or Vertical dimension.\n",
      ".Warning 1: dimension #0 (Year) is not a Time or Vertical dimension.\n",
      "Warning 1: dimension #0 (Year) is not a Time or Vertical dimension.\n",
      "Warning 1: dimension #0 (Year) is not a Time or Vertical dimension.\n",
      "40Warning 1: dimension #0 (Year) is not a Time or Vertical dimension.\n",
      "Warning 1: dimension #0 (Year) is not a Time or Vertical dimension.\n",
      "Warning 1: dimension #0 (Year) is not a Time or Vertical dimension.\n",
      "Warning 1: dimension #0 (Year) is not a Time or Vertical dimension.\n",
      ".Warning 1: dimension #0 (Year) is not a Time or Vertical dimension.\n",
      "Warning 1: dimension #0 (Year) is not a Time or Vertical dimension.\n",
      "Warning 1: dimension #0 (Year) is not a Time or Vertical dimension.\n",
      "Warning 1: dimension #0 (Year) is not a Time or Vertical dimension.\n",
      ".Warning 1: dimension #0 (Year) is not a Time or Vertical dimension.\n",
      "Warning 1: dimension #0 (Year) is not a Time or Vertical dimension.\n",
      "Warning 1: dimension #0 (Year) is not a Time or Vertical dimension.\n",
      "Warning 1: dimension #0 (Year) is not a Time or Vertical dimension.\n",
      ".Warning 1: dimension #0 (Year) is not a Time or Vertical dimension.\n",
      "Warning 1: dimension #0 (Year) is not a Time or Vertical dimension.\n",
      "Warning 1: dimension #0 (Year) is not a Time or Vertical dimension.\n",
      "Warning 1: dimension #0 (Year) is not a Time or Vertical dimension.\n",
      "50Warning 1: dimension #0 (Year) is not a Time or Vertical dimension.\n",
      "Warning 1: dimension #0 (Year) is not a Time or Vertical dimension.\n",
      "Warning 1: dimension #0 (Year) is not a Time or Vertical dimension.\n",
      "Warning 1: dimension #0 (Year) is not a Time or Vertical dimension.\n",
      ".Warning 1: dimension #0 (Year) is not a Time or Vertical dimension.\n",
      "Warning 1: dimension #0 (Year) is not a Time or Vertical dimension.\n",
      "Warning 1: dimension #0 (Year) is not a Time or Vertical dimension.\n",
      "Warning 1: dimension #0 (Year) is not a Time or Vertical dimension.\n",
      ".Warning 1: dimension #0 (Year) is not a Time or Vertical dimension.\n",
      "Warning 1: dimension #0 (Year) is not a Time or Vertical dimension.\n",
      "Warning 1: dimension #0 (Year) is not a Time or Vertical dimension.\n",
      "Warning 1: dimension #0 (Year) is not a Time or Vertical dimension.\n",
      ".Warning 1: dimension #0 (Year) is not a Time or Vertical dimension.\n",
      "Warning 1: dimension #0 (Year) is not a Time or Vertical dimension.\n",
      "Warning 1: dimension #0 (Year) is not a Time or Vertical dimension.\n",
      "60Warning 1: dimension #0 (Year) is not a Time or Vertical dimension.\n",
      "Warning 1: dimension #0 (Year) is not a Time or Vertical dimension.\n",
      "Warning 1: dimension #0 (Year) is not a Time or Vertical dimension.\n",
      "Warning 1: dimension #0 (Year) is not a Time or Vertical dimension.\n",
      ".Warning 1: dimension #0 (Year) is not a Time or Vertical dimension.\n",
      "Warning 1: dimension #0 (Year) is not a Time or Vertical dimension.\n",
      "Warning 1: dimension #0 (Year) is not a Time or Vertical dimension.\n",
      "Warning 1: dimension #0 (Year) is not a Time or Vertical dimension.\n",
      ".Warning 1: dimension #0 (Year) is not a Time or Vertical dimension.\n",
      "Warning 1: dimension #0 (Year) is not a Time or Vertical dimension.\n",
      "Warning 1: dimension #0 (Year) is not a Time or Vertical dimension.\n",
      "Warning 1: dimension #0 (Year) is not a Time or Vertical dimension.\n",
      ".Warning 1: dimension #0 (Year) is not a Time or Vertical dimension.\n",
      "Warning 1: dimension #0 (Year) is not a Time or Vertical dimension.\n",
      "Warning 1: dimension #0 (Year) is not a Time or Vertical dimension.\n",
      "Warning 1: dimension #0 (Year) is not a Time or Vertical dimension.\n",
      "70Warning 1: dimension #0 (Year) is not a Time or Vertical dimension.\n",
      "Warning 1: dimension #0 (Year) is not a Time or Vertical dimension.\n",
      "Warning 1: dimension #0 (Year) is not a Time or Vertical dimension.\n",
      "Warning 1: dimension #0 (Year) is not a Time or Vertical dimension.\n",
      ".Warning 1: dimension #0 (Year) is not a Time or Vertical dimension.\n",
      "Warning 1: dimension #0 (Year) is not a Time or Vertical dimension.\n",
      "Warning 1: dimension #0 (Year) is not a Time or Vertical dimension.\n",
      "Warning 1: dimension #0 (Year) is not a Time or Vertical dimension.\n",
      ".Warning 1: dimension #0 (Year) is not a Time or Vertical dimension.\n",
      "Warning 1: dimension #0 (Year) is not a Time or Vertical dimension.\n",
      "Warning 1: dimension #0 (Year) is not a Time or Vertical dimension.\n",
      "Warning 1: dimension #0 (Year) is not a Time or Vertical dimension.\n",
      ".Warning 1: dimension #0 (Year) is not a Time or Vertical dimension.\n",
      "Warning 1: dimension #0 (Year) is not a Time or Vertical dimension.\n",
      "Warning 1: dimension #0 (Year) is not a Time or Vertical dimension.\n",
      "80Warning 1: dimension #0 (Year) is not a Time or Vertical dimension.\n",
      "Warning 1: dimension #0 (Year) is not a Time or Vertical dimension.\n",
      "Warning 1: dimension #0 (Year) is not a Time or Vertical dimension.\n",
      "Warning 1: dimension #0 (Year) is not a Time or Vertical dimension.\n",
      ".Warning 1: dimension #0 (Year) is not a Time or Vertical dimension.\n",
      "Warning 1: dimension #0 (Year) is not a Time or Vertical dimension.\n",
      "Warning 1: dimension #0 (Year) is not a Time or Vertical dimension.\n",
      "Warning 1: dimension #0 (Year) is not a Time or Vertical dimension.\n",
      ".Warning 1: dimension #0 (Year) is not a Time or Vertical dimension.\n",
      "Warning 1: dimension #0 (Year) is not a Time or Vertical dimension.\n",
      "Warning 1: dimension #0 (Year) is not a Time or Vertical dimension.\n",
      "Warning 1: dimension #0 (Year) is not a Time or Vertical dimension.\n",
      ".Warning 1: dimension #0 (Year) is not a Time or Vertical dimension.\n",
      "Warning 1: dimension #0 (Year) is not a Time or Vertical dimension.\n",
      "Warning 1: dimension #0 (Year) is not a Time or Vertical dimension.\n",
      "Warning 1: dimension #0 (Year) is not a Time or Vertical dimension.\n",
      "90Warning 1: dimension #0 (Year) is not a Time or Vertical dimension.\n",
      "Warning 1: dimension #0 (Year) is not a Time or Vertical dimension.\n",
      "Warning 1: dimension #0 (Year) is not a Time or Vertical dimension.\n",
      "Warning 1: dimension #0 (Year) is not a Time or Vertical dimension.\n",
      ".Warning 1: dimension #0 (Year) is not a Time or Vertical dimension.\n",
      "Warning 1: dimension #0 (Year) is not a Time or Vertical dimension.\n",
      "Warning 1: dimension #0 (Year) is not a Time or Vertical dimension.\n",
      "Warning 1: dimension #0 (Year) is not a Time or Vertical dimension.\n",
      ".Warning 1: dimension #0 (Year) is not a Time or Vertical dimension.\n",
      "Warning 1: dimension #0 (Year) is not a Time or Vertical dimension.\n",
      "Warning 1: dimension #0 (Year) is not a Time or Vertical dimension.\n",
      "Warning 1: dimension #0 (Year) is not a Time or Vertical dimension.\n",
      ".Warning 1: dimension #0 (Year) is not a Time or Vertical dimension.\n",
      "Warning 1: dimension #0 (Year) is not a Time or Vertical dimension.\n",
      "Warning 1: dimension #0 (Year) is not a Time or Vertical dimension.\n",
      "100 - done.\n",
      "Warning 1: dimension #0 (Year) is not a Time or Vertical dimension.\n"
     ]
    }
   ],
   "source": [
    "!gdalbuildvrt ncGDD.vrt *GDD.nc4"
   ]
  },
  {
   "cell_type": "markdown",
   "metadata": {},
   "source": [
    "#### Don't do this:"
   ]
  },
  {
   "cell_type": "code",
   "execution_count": 2,
   "metadata": {
    "collapsed": false
   },
   "outputs": [
    {
     "name": "stdout",
     "output_type": "stream",
     "text": [
      "Terminated\r\n"
     ]
    }
   ],
   "source": [
    "!gdalinfo ncGDD.vrt"
   ]
  },
  {
   "cell_type": "markdown",
   "metadata": {},
   "source": [
    "This was a bad idea; gdalinfo checking every netCDF file in the VRT started using tons of memory:  \n",
    "``` USER      PR  NI    VIRT    RES    SHR S  %CPU %MEM     TIME+ COMMAND\n",
    "cgtrn05   20   0 20.991g 0.020t   1512 D  22.7 65.8   0:57.82 gdalinfo ```"
   ]
  },
  {
   "cell_type": "markdown",
   "metadata": {},
   "source": [
    "#### Try to make a single band output: "
   ]
  },
  {
   "cell_type": "markdown",
   "metadata": {},
   "source": [
    "Works for a single tile:"
   ]
  },
  {
   "cell_type": "code",
   "execution_count": 3,
   "metadata": {
    "collapsed": false
   },
   "outputs": [
    {
     "name": "stdout",
     "output_type": "stream",
     "text": [
      "Warning 1: dimension #0 (Year) is not a Time or Vertical dimension.\n",
      "Input file size is 120, 120\n",
      "0...10...20...30...40...50...60...70...80...90...100 - done.\n"
     ]
    }
   ],
   "source": [
    "!gdal_translate -b 1000 103W31N_GDD.nc4 bands/103W31N_GDD.nc4-1000.tif -co COMPRESS=DEFLATE -co BIGTIFF=YES -ot Int16 -co TILED=YES"
   ]
  },
  {
   "cell_type": "markdown",
   "metadata": {},
   "source": [
    "Memory is out of control when trying to use the VRT:"
   ]
  },
  {
   "cell_type": "code",
   "execution_count": 4,
   "metadata": {
    "collapsed": false
   },
   "outputs": [
    {
     "name": "stdout",
     "output_type": "stream",
     "text": [
      "^C\r\n"
     ]
    }
   ],
   "source": [
    "!gdal_translate -b 1000 ncGDD.vrt bands/GDD_may_sept_demosaic-1000.tif -co COMPRESS=DEFLATE -co BIGTIFF=YES -ot Int16 -co TILED=YES"
   ]
  },
  {
   "cell_type": "markdown",
   "metadata": {},
   "source": [
    "#### Switch to longitude columns for combining NOAA data\n",
    "I believe Adam's workflow was similiar"
   ]
  },
  {
   "cell_type": "code",
   "execution_count": 8,
   "metadata": {
    "collapsed": false
   },
   "outputs": [
    {
     "name": "stdout",
     "output_type": "stream",
     "text": [
      "0...Warning 1: dimension #0 (Year) is not a Time or Vertical dimension.\n",
      "10..Warning 1: dimension #0 (Year) is not a Time or Vertical dimension.\n",
      ".20..Warning 1: dimension #0 (Year) is not a Time or Vertical dimension.\n",
      ".30.Warning 1: dimension #0 (Year) is not a Time or Vertical dimension.\n",
      "..40Warning 1: dimension #0 (Year) is not a Time or Vertical dimension.\n",
      "...50Warning 1: dimension #0 (Year) is not a Time or Vertical dimension.\n",
      "...Warning 1: dimension #0 (Year) is not a Time or Vertical dimension.\n",
      "60..Warning 1: dimension #0 (Year) is not a Time or Vertical dimension.\n",
      ".70..Warning 1: dimension #0 (Year) is not a Time or Vertical dimension.\n",
      ".80.Warning 1: dimension #0 (Year) is not a Time or Vertical dimension.\n",
      "..90Warning 1: dimension #0 (Year) is not a Time or Vertical dimension.\n",
      "...100 - done.\n",
      "Warning 1: dimension #0 (Year) is not a Time or Vertical dimension.\n",
      "3.57user 0.28system 0:04.18elapsed 92%CPU (0avgtext+0avgdata 128140maxresident)k\n",
      "0inputs+19944outputs (0major+25403minor)pagefaults 0swaps\n"
     ]
    }
   ],
   "source": [
    "!time gdalbuildvrt 103W_GDD.vrt *103*GDD.nc4"
   ]
  },
  {
   "cell_type": "markdown",
   "metadata": {},
   "source": [
    "#### Make a single band TIF from VRT column"
   ]
  },
  {
   "cell_type": "code",
   "execution_count": 9,
   "metadata": {
    "collapsed": false
   },
   "outputs": [
    {
     "name": "stdout",
     "output_type": "stream",
     "text": [
      "Input file size is 120, 1440\n",
      "0Warning 1: dimension #0 (Year) is not a Time or Vertical dimension.\n",
      "Warning 1: dimension #0 (Year) is not a Time or Vertical dimension.\n",
      "Warning 1: dimension #0 (Year) is not a Time or Vertical dimension.\n",
      "Warning 1: dimension #0 (Year) is not a Time or Vertical dimension.\n",
      "Warning 1: dimension #0 (Year) is not a Time or Vertical dimension.\n",
      "Warning 1: dimension #0 (Year) is not a Time or Vertical dimension.\n",
      "Warning 1: dimension #0 (Year) is not a Time or Vertical dimension.\n",
      "Warning 1: dimension #0 (Year) is not a Time or Vertical dimension.\n",
      "Warning 1: dimension #0 (Year) is not a Time or Vertical dimension.\n",
      "Warning 1: dimension #0 (Year) is not a Time or Vertical dimension.\n",
      "Warning 1: dimension #0 (Year) is not a Time or Vertical dimension.\n",
      "...10...20...30...40...50...60...70...80...Warning 1: dimension #0 (Year) is not a Time or Vertical dimension.\n",
      "90...100 - done.\n"
     ]
    }
   ],
   "source": [
    "!gdal_translate -b 1000 103W_GDD.vrt bands/103W_GDD-1000.tif -co COMPRESS=DEFLATE -co BIGTIFF=YES -ot Int16 -co TILED=YES"
   ]
  },
  {
   "cell_type": "code",
   "execution_count": 10,
   "metadata": {
    "collapsed": false
   },
   "outputs": [
    {
     "name": "stderr",
     "output_type": "stream",
     "text": [
      "/usr/lib/python3/dist-packages/matplotlib/font_manager.py:273: UserWarning: Matplotlib is building the font cache using fc-list. This may take a moment.\n",
      "  warnings.warn('Matplotlib is building the font cache using fc-list. This may take a moment.')\n",
      "/usr/lib/python3/dist-packages/matplotlib/font_manager.py:273: UserWarning: Matplotlib is building the font cache using fc-list. This may take a moment.\n",
      "  warnings.warn('Matplotlib is building the font cache using fc-list. This may take a moment.')\n"
     ]
    },
    {
     "name": "stdout",
     "output_type": "stream",
     "text": [
      "Input file: /mnt/skope/noaaData/bands/103W_GDD-1000.tif\n"
     ]
    }
   ],
   "source": [
    "from __future__ import print_function\n",
    "import os\n",
    "import numpy as np\n",
    "import matplotlib.pyplot as plt\n",
    "import rasterio\n",
    "%matplotlib inline\n",
    "\n",
    "input_file = os.path.join(os.path.abspath('.'), 'bands', '103W_GDD-1000.tif')\n",
    "if not os.path.exists(input_file):\n",
    "    print('File not found')\n",
    "else:\n",
    "    print('Input file:', input_file)"
   ]
  },
  {
   "cell_type": "code",
   "execution_count": 11,
   "metadata": {
    "collapsed": false
   },
   "outputs": [
    {
     "name": "stdout",
     "output_type": "stream",
     "text": [
      "BoundingBox(left=-102.995833334, bottom=30.99583333400007, right=-101.99583333399998, top=42.995833334)\n"
     ]
    },
    {
     "data": {
      "text/plain": [
       "[<matplotlib.lines.Line2D at 0x7f3bc0962c50>]"
      ]
     },
     "execution_count": 11,
     "metadata": {},
     "output_type": "execute_result"
    },
    {
     "data": {
      "image/png": "[encoded data removed]",
      "text/plain": [
       "<matplotlib.figure.Figure at 0x7f3bf40de5f8>"
      ]
     },
     "metadata": {},
     "output_type": "display_data"
    }
   ],
   "source": [
    "with rasterio.open(input_file) as src:\n",
    "    print(src.bounds)\n",
    "    left, bottom, right, top = src.bounds\n",
    "x = [left, right, right, left, left]\n",
    "y = [bottom, bottom, top, top, bottom]\n",
    "plt.plot(x, y)"
   ]
  },
  {
   "cell_type": "code",
   "execution_count": 12,
   "metadata": {
    "collapsed": true
   },
   "outputs": [],
   "source": [
    "?np.dstack()"
   ]
  },
  {
   "cell_type": "code",
   "execution_count": 15,
   "metadata": {
    "collapsed": false
   },
   "outputs": [
    {
     "data": {
      "text/plain": [
       "(1440, 120)"
      ]
     },
     "execution_count": 15,
     "metadata": {},
     "output_type": "execute_result"
    }
   ],
   "source": [
    "with rasterio.open(input_file) as src:\n",
    "    data = src.read(1)\n",
    "data.shape"
   ]
  },
  {
   "cell_type": "code",
   "execution_count": 17,
   "metadata": {
    "collapsed": false
   },
   "outputs": [
    {
     "data": {
      "text/plain": [
       "<matplotlib.image.AxesImage at 0x7f3bc0837d30>"
      ]
     },
     "execution_count": 17,
     "metadata": {},
     "output_type": "execute_result"
    },
    {
     "data": {
      "image/png": "[encoded data removed]",
      "text/plain": [
       "<matplotlib.figure.Figure at 0x7f3bc0873c18>"
      ]
     },
     "metadata": {},
     "output_type": "display_data"
    }
   ],
   "source": [
    "plt.figure(figsize=(2, 10))\n",
    "plt.imshow(data)"
   ]
  },
  {
   "cell_type": "markdown",
   "metadata": {},
   "source": []
  },
  {
   "cell_type": "markdown",
   "metadata": {},
   "source": [
    "#### Columns work, finish creating VRTs for rest of the columns"
   ]
  },
  {
   "cell_type": "code",
   "execution_count": 19,
   "metadata": {
    "collapsed": false
   },
   "outputs": [
    {
     "name": "stdout",
     "output_type": "stream",
     "text": [
      "0...Warning 1: dimension #0 (Year) is not a Time or Vertical dimension.\n",
      "10..Warning 1: dimension #0 (Year) is not a Time or Vertical dimension.\n",
      ".20..Warning 1: dimension #0 (Year) is not a Time or Vertical dimension.\n",
      ".30.Warning 1: dimension #0 (Year) is not a Time or Vertical dimension.\n",
      "..40Warning 1: dimension #0 (Year) is not a Time or Vertical dimension.\n",
      "...50Warning 1: dimension #0 (Year) is not a Time or Vertical dimension.\n",
      "...Warning 1: dimension #0 (Year) is not a Time or Vertical dimension.\n",
      "60..Warning 1: dimension #0 (Year) is not a Time or Vertical dimension.\n",
      ".70..Warning 1: dimension #0 (Year) is not a Time or Vertical dimension.\n",
      ".80.Warning 1: dimension #0 (Year) is not a Time or Vertical dimension.\n",
      "..90Warning 1: dimension #0 (Year) is not a Time or Vertical dimension.\n",
      "...100 - done.\n",
      "Warning 1: dimension #0 (Year) is not a Time or Vertical dimension.\n",
      "0...Warning 1: dimension #0 (Year) is not a Time or Vertical dimension.\n",
      "10..Warning 1: dimension #0 (Year) is not a Time or Vertical dimension.\n",
      ".20..Warning 1: dimension #0 (Year) is not a Time or Vertical dimension.\n",
      ".30.Warning 1: dimension #0 (Year) is not a Time or Vertical dimension.\n",
      "..40Warning 1: dimension #0 (Year) is not a Time or Vertical dimension.\n",
      "...50Warning 1: dimension #0 (Year) is not a Time or Vertical dimension.\n",
      "...Warning 1: dimension #0 (Year) is not a Time or Vertical dimension.\n",
      "60..Warning 1: dimension #0 (Year) is not a Time or Vertical dimension.\n",
      ".70..Warning 1: dimension #0 (Year) is not a Time or Vertical dimension.\n",
      ".80.Warning 1: dimension #0 (Year) is not a Time or Vertical dimension.\n",
      "..90Warning 1: dimension #0 (Year) is not a Time or Vertical dimension.\n",
      "...100 - done.\n",
      "Warning 1: dimension #0 (Year) is not a Time or Vertical dimension.\n",
      "0...Warning 1: dimension #0 (Year) is not a Time or Vertical dimension.\n",
      "10..Warning 1: dimension #0 (Year) is not a Time or Vertical dimension.\n",
      ".20..Warning 1: dimension #0 (Year) is not a Time or Vertical dimension.\n",
      ".30.Warning 1: dimension #0 (Year) is not a Time or Vertical dimension.\n",
      "..40Warning 1: dimension #0 (Year) is not a Time or Vertical dimension.\n",
      "...50Warning 1: dimension #0 (Year) is not a Time or Vertical dimension.\n",
      "...Warning 1: dimension #0 (Year) is not a Time or Vertical dimension.\n",
      "60..Warning 1: dimension #0 (Year) is not a Time or Vertical dimension.\n",
      ".70..Warning 1: dimension #0 (Year) is not a Time or Vertical dimension.\n",
      ".80.Warning 1: dimension #0 (Year) is not a Time or Vertical dimension.\n",
      "..90Warning 1: dimension #0 (Year) is not a Time or Vertical dimension.\n",
      "...100 - done.\n",
      "Warning 1: dimension #0 (Year) is not a Time or Vertical dimension.\n",
      "0...Warning 1: dimension #0 (Year) is not a Time or Vertical dimension.\n",
      "10..Warning 1: dimension #0 (Year) is not a Time or Vertical dimension.\n",
      ".20..Warning 1: dimension #0 (Year) is not a Time or Vertical dimension.\n",
      ".30.Warning 1: dimension #0 (Year) is not a Time or Vertical dimension.\n",
      "..40Warning 1: dimension #0 (Year) is not a Time or Vertical dimension.\n",
      "...50Warning 1: dimension #0 (Year) is not a Time or Vertical dimension.\n",
      "...Warning 1: dimension #0 (Year) is not a Time or Vertical dimension.\n",
      "60..Warning 1: dimension #0 (Year) is not a Time or Vertical dimension.\n",
      ".70..Warning 1: dimension #0 (Year) is not a Time or Vertical dimension.\n",
      ".80.Warning 1: dimension #0 (Year) is not a Time or Vertical dimension.\n",
      "..90Warning 1: dimension #0 (Year) is not a Time or Vertical dimension.\n",
      "...100 - done.\n",
      "Warning 1: dimension #0 (Year) is not a Time or Vertical dimension.\n",
      "0...Warning 1: dimension #0 (Year) is not a Time or Vertical dimension.\n",
      "10..Warning 1: dimension #0 (Year) is not a Time or Vertical dimension.\n",
      ".20..Warning 1: dimension #0 (Year) is not a Time or Vertical dimension.\n",
      ".30.Warning 1: dimension #0 (Year) is not a Time or Vertical dimension.\n",
      "..40Warning 1: dimension #0 (Year) is not a Time or Vertical dimension.\n",
      "...50Warning 1: dimension #0 (Year) is not a Time or Vertical dimension.\n",
      "...Warning 1: dimension #0 (Year) is not a Time or Vertical dimension.\n",
      "60..Warning 1: dimension #0 (Year) is not a Time or Vertical dimension.\n",
      ".70..Warning 1: dimension #0 (Year) is not a Time or Vertical dimension.\n",
      ".80.Warning 1: dimension #0 (Year) is not a Time or Vertical dimension.\n",
      "..90Warning 1: dimension #0 (Year) is not a Time or Vertical dimension.\n",
      "...100 - done.\n",
      "Warning 1: dimension #0 (Year) is not a Time or Vertical dimension.\n",
      "0...Warning 1: dimension #0 (Year) is not a Time or Vertical dimension.\n",
      "10..Warning 1: dimension #0 (Year) is not a Time or Vertical dimension.\n",
      ".20..Warning 1: dimension #0 (Year) is not a Time or Vertical dimension.\n",
      ".30.Warning 1: dimension #0 (Year) is not a Time or Vertical dimension.\n",
      "..40Warning 1: dimension #0 (Year) is not a Time or Vertical dimension.\n",
      "...50Warning 1: dimension #0 (Year) is not a Time or Vertical dimension.\n",
      "...Warning 1: dimension #0 (Year) is not a Time or Vertical dimension.\n",
      "60..Warning 1: dimension #0 (Year) is not a Time or Vertical dimension.\n",
      ".70..Warning 1: dimension #0 (Year) is not a Time or Vertical dimension.\n",
      ".80.Warning 1: dimension #0 (Year) is not a Time or Vertical dimension.\n",
      "..90Warning 1: dimension #0 (Year) is not a Time or Vertical dimension.\n",
      "...100 - done.\n",
      "Warning 1: dimension #0 (Year) is not a Time or Vertical dimension.\n",
      "0...Warning 1: dimension #0 (Year) is not a Time or Vertical dimension.\n",
      "10..Warning 1: dimension #0 (Year) is not a Time or Vertical dimension.\n",
      ".20..Warning 1: dimension #0 (Year) is not a Time or Vertical dimension.\n",
      ".30.Warning 1: dimension #0 (Year) is not a Time or Vertical dimension.\n",
      "..40Warning 1: dimension #0 (Year) is not a Time or Vertical dimension.\n",
      "...50Warning 1: dimension #0 (Year) is not a Time or Vertical dimension.\n",
      "...Warning 1: dimension #0 (Year) is not a Time or Vertical dimension.\n",
      "60..Warning 1: dimension #0 (Year) is not a Time or Vertical dimension.\n",
      ".70..Warning 1: dimension #0 (Year) is not a Time or Vertical dimension.\n",
      ".80.Warning 1: dimension #0 (Year) is not a Time or Vertical dimension.\n",
      "..90Warning 1: dimension #0 (Year) is not a Time or Vertical dimension.\n",
      "...100 - done.\n",
      "Warning 1: dimension #0 (Year) is not a Time or Vertical dimension.\n",
      "0...Warning 1: dimension #0 (Year) is not a Time or Vertical dimension.\n",
      "10..Warning 1: dimension #0 (Year) is not a Time or Vertical dimension.\n",
      ".20..Warning 1: dimension #0 (Year) is not a Time or Vertical dimension.\n",
      ".30.Warning 1: dimension #0 (Year) is not a Time or Vertical dimension.\n",
      "..40Warning 1: dimension #0 (Year) is not a Time or Vertical dimension.\n",
      "...50Warning 1: dimension #0 (Year) is not a Time or Vertical dimension.\n",
      "...Warning 1: dimension #0 (Year) is not a Time or Vertical dimension.\n",
      "60..Warning 1: dimension #0 (Year) is not a Time or Vertical dimension.\n",
      ".70..Warning 1: dimension #0 (Year) is not a Time or Vertical dimension.\n",
      ".80.Warning 1: dimension #0 (Year) is not a Time or Vertical dimension.\n",
      "..90Warning 1: dimension #0 (Year) is not a Time or Vertical dimension.\n",
      "...100 - done.\n",
      "Warning 1: dimension #0 (Year) is not a Time or Vertical dimension.\n",
      "0...Warning 1: dimension #0 (Year) is not a Time or Vertical dimension.\n",
      "10..Warning 1: dimension #0 (Year) is not a Time or Vertical dimension.\n",
      ".20..Warning 1: dimension #0 (Year) is not a Time or Vertical dimension.\n",
      ".30.Warning 1: dimension #0 (Year) is not a Time or Vertical dimension.\n",
      "..40Warning 1: dimension #0 (Year) is not a Time or Vertical dimension.\n",
      "...50Warning 1: dimension #0 (Year) is not a Time or Vertical dimension.\n",
      "...Warning 1: dimension #0 (Year) is not a Time or Vertical dimension.\n",
      "60..Warning 1: dimension #0 (Year) is not a Time or Vertical dimension.\n",
      ".70..Warning 1: dimension #0 (Year) is not a Time or Vertical dimension.\n",
      ".80.Warning 1: dimension #0 (Year) is not a Time or Vertical dimension.\n",
      "..90Warning 1: dimension #0 (Year) is not a Time or Vertical dimension.\n",
      "...100 - done.\n",
      "Warning 1: dimension #0 (Year) is not a Time or Vertical dimension.\n",
      "0...Warning 1: dimension #0 (Year) is not a Time or Vertical dimension.\n",
      "10..Warning 1: dimension #0 (Year) is not a Time or Vertical dimension.\n",
      ".20..Warning 1: dimension #0 (Year) is not a Time or Vertical dimension.\n",
      ".30.Warning 1: dimension #0 (Year) is not a Time or Vertical dimension.\n",
      "..40Warning 1: dimension #0 (Year) is not a Time or Vertical dimension.\n",
      "...50Warning 1: dimension #0 (Year) is not a Time or Vertical dimension.\n",
      "...Warning 1: dimension #0 (Year) is not a Time or Vertical dimension.\n",
      "60..Warning 1: dimension #0 (Year) is not a Time or Vertical dimension.\n",
      ".70..Warning 1: dimension #0 (Year) is not a Time or Vertical dimension.\n",
      ".80.Warning 1: dimension #0 (Year) is not a Time or Vertical dimension.\n",
      "..90Warning 1: dimension #0 (Year) is not a Time or Vertical dimension.\n",
      "...100 - done.\n",
      "Warning 1: dimension #0 (Year) is not a Time or Vertical dimension.\n",
      "0...Warning 1: dimension #0 (Year) is not a Time or Vertical dimension.\n",
      "10..Warning 1: dimension #0 (Year) is not a Time or Vertical dimension.\n",
      ".20..Warning 1: dimension #0 (Year) is not a Time or Vertical dimension.\n",
      ".30.Warning 1: dimension #0 (Year) is not a Time or Vertical dimension.\n",
      "..40Warning 1: dimension #0 (Year) is not a Time or Vertical dimension.\n",
      "...50Warning 1: dimension #0 (Year) is not a Time or Vertical dimension.\n",
      "...Warning 1: dimension #0 (Year) is not a Time or Vertical dimension.\n",
      "60..Warning 1: dimension #0 (Year) is not a Time or Vertical dimension.\n",
      ".70..Warning 1: dimension #0 (Year) is not a Time or Vertical dimension.\n",
      ".80.Warning 1: dimension #0 (Year) is not a Time or Vertical dimension.\n",
      "..90Warning 1: dimension #0 (Year) is not a Time or Vertical dimension.\n",
      "...100 - done.\n",
      "Warning 1: dimension #0 (Year) is not a Time or Vertical dimension.\n",
      "0...Warning 1: dimension #0 (Year) is not a Time or Vertical dimension.\n",
      "10...Warning 1: dimension #0 (Year) is not a Time or Vertical dimension.\n",
      "20..Warning 1: dimension #0 (Year) is not a Time or Vertical dimension.\n",
      ".30..Warning 1: dimension #0 (Year) is not a Time or Vertical dimension.\n",
      ".40..Warning 1: dimension #0 (Year) is not a Time or Vertical dimension.\n",
      ".50.Warning 1: dimension #0 (Year) is not a Time or Vertical dimension.\n",
      "..60.Warning 1: dimension #0 (Year) is not a Time or Vertical dimension.\n",
      "..70.Warning 1: dimension #0 (Year) is not a Time or Vertical dimension.\n",
      "..80Warning 1: dimension #0 (Year) is not a Time or Vertical dimension.\n",
      "...90Warning 1: dimension #0 (Year) is not a Time or Vertical dimension.\n",
      "...100 - done.\n",
      "Warning 1: dimension #0 (Year) is not a Time or Vertical dimension.\n"
     ]
    }
   ],
   "source": [
    "!for var in 104 105 106 107 108 109 110 111 112 113 114 115; do gdalbuildvrt \"$var\"W_GDD.vrt *\"$var\"*GDD.nc4; done"
   ]
  },
  {
   "cell_type": "code",
   "execution_count": 20,
   "metadata": {
    "collapsed": false
   },
   "outputs": [
    {
     "name": "stdout",
     "output_type": "stream",
     "text": [
      "Warning 1: dimension #0 (Year) is not a Time or Vertical dimension.\n",
      "Driver: VRT/Virtual Raster\n",
      "Files: 104W_GDD.vrt\n",
      "       /mnt/skope/noaaData/104W31N_GDD.nc4\n",
      "       /mnt/skope/noaaData/104W32N_GDD.nc4\n",
      "       /mnt/skope/noaaData/104W33N_GDD.nc4\n",
      "       /mnt/skope/noaaData/104W34N_GDD.nc4\n",
      "       /mnt/skope/noaaData/104W35N_GDD.nc4\n",
      "       /mnt/skope/noaaData/104W36N_GDD.nc4\n",
      "       /mnt/skope/noaaData/104W37N_GDD.nc4\n",
      "       /mnt/skope/noaaData/104W38N_GDD.nc4\n",
      "       /mnt/skope/noaaData/104W39N_GDD.nc4\n",
      "       /mnt/skope/noaaData/104W40N_GDD.nc4\n",
      "       /mnt/skope/noaaData/104W41N_GDD.nc4\n",
      "       /mnt/skope/noaaData/104W42N_GDD.nc4\n",
      "Size is 120, 1440\n",
      "Coordinate System is `'\n",
      "Origin = (-103.995833333999997,42.995833333999997)\n",
      "Pixel Size = (0.008333333333333,-0.008333333333333)\n",
      "Corner Coordinates:\n",
      "Upper Left  (-103.9958333,  42.9958333) \n",
      "Lower Left  (-103.9958333,  30.9958333) \n",
      "Upper Right (-102.9958333,  42.9958333) \n",
      "Lower Right (-102.9958333,  30.9958333) \n",
      "Center      (-103.4958333,  36.9958333) \n",
      "Band 1 Block=120x128 Type=Int16, ColorInterp=Undefined\n",
      "  NoData Value=-32768\n",
      "Band 2 Block=120x128 Type=Int16, ColorInterp=Undefined\n",
      "  NoData Value=-32768\n",
      "Band 3 Block=120x128 Type=Int16, ColorInterp=Undefined\n",
      "  NoData Value=-32768\n",
      "Band 4 Block=120x128 Type=Int16, ColorInterp=Undefined\n",
      "  NoData Value=-32768\n",
      "Band 5 Block=120x128 Type=Int16, ColorInterp=Undefined\n",
      "  NoData Value=-32768\n",
      "Band 6 Block=120x128 Type=Int16, ColorInterp=Undefined\n",
      "  NoData Value=-32768\n",
      "Band 7 Block=120x128 Type=Int16, ColorInterp=Undefined\n",
      "  NoData Value=-32768\n",
      "Band 8 Block=120x128 Type=Int16, ColorInterp=Undefined\n",
      "  NoData Value=-32768\n"
     ]
    }
   ],
   "source": [
    "!gdalinfo 104W_GDD.vrt | head -n 40"
   ]
  }
 ],
 "metadata": {
  "kernelspec": {
   "display_name": "Python 3",
   "language": "python",
   "name": "python3"
  },
  "language_info": {
   "codemirror_mode": {
    "name": "ipython",
    "version": 3
   },
   "file_extension": ".py",
   "mimetype": "text/x-python",
   "name": "python",
   "nbconvert_exporter": "python",
   "pygments_lexer": "ipython3",
   "version": "3.5.2"
  }
 },
 "nbformat": 4,
 "nbformat_minor": 0
}
